{
 "cells": [
  {
   "cell_type": "markdown",
   "metadata": {},
   "source": [
    "# Section Title"
   ]
  },
  {
   "cell_type": "code",
   "execution_count": null,
   "metadata": {},
   "outputs": [],
   "source": [
    "# Video Title\n",
    "x = \"each video\""
   ]
  },
  {
   "cell_type": "code",
   "execution_count": null,
   "metadata": {},
   "outputs": [],
   "source": [
    "y = \"in section\""
   ]
  },
  {
   "cell_type": "markdown",
   "metadata": {},
   "source": [
    "# Introduction to Algebra and Calculus"
   ]
  },
  {
   "cell_type": "code",
   "execution_count": 1,
   "metadata": {},
   "outputs": [
    {
     "data": {
      "text/plain": [
       "27"
      ]
     },
     "execution_count": 1,
     "metadata": {},
     "output_type": "execute_result"
    }
   ],
   "source": [
    "# Mathematical Operators and Order of Operations\n",
    "# exponent\n",
    "3**3"
   ]
  },
  {
   "cell_type": "code",
   "execution_count": null,
   "metadata": {},
   "outputs": [],
   "source": [
    "# Common Mathematical Functions\n",
    "# set : collection\n",
    "# finite sets\n",
    "colors = {\"red\", \"yellow\", \"green\"}\n",
    "\n",
    "# infinite sets\n",
    "N = {1, 2, 3,...}\n",
    "\n",
    "# linear functions \n",
    "# quadratic funciton : f(x) = x^2\n",
    "# suare root function \n",
    "# Absolute, Logarithmic, Exponential, Trignometric Functions\n"
   ]
  },
  {
   "cell_type": "code",
   "execution_count": 9,
   "metadata": {},
   "outputs": [
    {
     "name": "stdout",
     "output_type": "stream",
     "text": [
      "base log of 100 4.605170185988092\n",
      "log 10 of 100 2.0\n",
      "1.0471975511965976\n",
      "sin of alpha 0.8660254037844386\n",
      "cos of alpha 0.5000000000000001\n",
      "tan of alpha 1.7320508075688767\n"
     ]
    },
    {
     "data": {
      "text/plain": [
       "0.9748693057997866"
      ]
     },
     "execution_count": 9,
     "metadata": {},
     "output_type": "execute_result"
    }
   ],
   "source": [
    "# Built in Functions\n",
    "# import math library for many built in python math functions\n",
    "import math\n",
    "math.sqrt(16)\n",
    "\n",
    "# logarithmic\n",
    "# base log is e = 2.71828\n",
    "print(\"base log of 100\", math.log(100))\n",
    "print(\"log 10 of 100\", math.log(100, 10))\n",
    "\n",
    "# angles\n",
    "alpha = math.pi/3\n",
    "print(alpha)\n",
    "\n",
    "print(\"sin of alpha\", math.sin(alpha))\n",
    "print(\"cos of alpha\", math.cos(alpha))\n",
    "print(\"tan of alpha\", math.tan(alpha))\n",
    "\n",
    "math.gamma(alpha)\n",
    "\n",
    "# use the numpy library for more precision and complexity"
   ]
  },
  {
   "cell_type": "code",
   "execution_count": 10,
   "metadata": {},
   "outputs": [
    {
     "name": "stdout",
     "output_type": "stream",
     "text": [
      "[1, 2, 3, 5, 6, 10, 15, 30]\n"
     ]
    }
   ],
   "source": [
    "# Writing Own Functions\n",
    "# examples with factors\n",
    "def calculate_factors(n):\n",
    "    factors = []\n",
    "    for i in range(1, n+1):\n",
    "        if n % i == 0:\n",
    "            factors.append(i)\n",
    "    return factors\n",
    "\n",
    "print(calculate_factors(30))\n"
   ]
  }
 ],
 "metadata": {
  "kernelspec": {
   "display_name": "Python 3",
   "language": "python",
   "name": "python3"
  },
  "language_info": {
   "codemirror_mode": {
    "name": "ipython",
    "version": 3
   },
   "file_extension": ".py",
   "mimetype": "text/x-python",
   "name": "python",
   "nbconvert_exporter": "python",
   "pygments_lexer": "ipython3",
   "version": "3.9.6"
  }
 },
 "nbformat": 4,
 "nbformat_minor": 2
}
