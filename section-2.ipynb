{
 "cells": [
  {
   "cell_type": "markdown",
   "metadata": {},
   "source": [
    "# Fundamentals"
   ]
  },
  {
   "cell_type": "code",
   "execution_count": 1,
   "metadata": {},
   "outputs": [
    {
     "name": "stdout",
     "output_type": "stream",
     "text": [
      "Hello, friend!\n"
     ]
    }
   ],
   "source": [
    "friend = \"Hank\"\n",
    "user_name = input(\"Enter your username: \")\n",
    "\n",
    "# if statement\n",
    "if user_name == friend: \n",
    "    print(\"Hello, friend!\")\n",
    "else: \n",
    "    print(\"Hello, Stranger!\")\n",
    "\n",
    "\n",
    "family = [\"John\", \"Mary\"]"
   ]
  },
  {
   "cell_type": "markdown",
   "metadata": {},
   "source": [
    "## While Loop\n",
    "runs at least once"
   ]
  },
  {
   "cell_type": "code",
   "execution_count": 6,
   "metadata": {},
   "outputs": [
    {
     "name": "stdout",
     "output_type": "stream",
     "text": [
      "My guy!\n",
      "My guy!\n",
      "Good to go..\n",
      "Good to go..\n",
      "Game Over\n",
      "Red Drop.\n",
      "Red Drop.\n",
      "Red Drop.\n",
      "Red Drop.\n",
      "red all full\n"
     ]
    }
   ],
   "source": [
    "is_learning = True\n",
    "\n",
    "while is_learning:\n",
    "    print(\"My guy!\")\n",
    "    user_input = input(\"Are you still learning? \")\n",
    "    is_learning = user_input == \"yes\"\n",
    "\n",
    "# example for use in a game menu , etc\n",
    "user_reply = input(\"Run the game? (yes/no): \")\n",
    "\n",
    "while user_reply == \"yes\":\n",
    "    print(\"Good to go..\")\n",
    "    user_reply = input(\"Play Again? \")\n",
    "\n",
    "print(\"Game Over\")\n",
    "\n",
    "\n",
    "drop_red = True\n",
    "\n",
    "while drop_red:\n",
    "    print(\"Red Drop.\")\n",
    "    red_full = input(\"More room for red? \")\n",
    "    # dropping imaginary red ball\n",
    "    drop_red = red_full == \"yes\"\n",
    "\n",
    "print(\"red all full\")\n"
   ]
  },
  {
   "cell_type": "code",
   "execution_count": null,
   "metadata": {},
   "outputs": [],
   "source": [
    "# Pseudo Code for a Simple Text Menu"
   ]
  },
  {
   "cell_type": "code",
   "execution_count": null,
   "metadata": {},
   "outputs": [],
   "source": [
    "# Ask the user to choose one of two options:\n",
    "# if they type 'p', our program should print \"Hello\" and then ask the user again. Keep repeating this until...\n",
    "# if they type 'q', our program should terminate.\n",
    "\n",
    "\n",
    "# Let's begin by asking the user to type either 'p' or 'q'. You know how to do this using input()\n",
    "# user_input = ...\n",
    "\n",
    "\n",
    "# Then, begin a while loop that runs for as long as the user doesn't type 'q'.\n",
    "# Inside the loop, have an if statement that checks if the user typed 'p'.\n",
    "#    If they did, print \"Hello\"\n",
    "# Still inside the loop, ask the user again\n",
    "# user_input = ..."
   ]
  },
  {
   "cell_type": "markdown",
   "metadata": {},
   "source": [
    "## For Loop\n",
    "Runs a specific amount of time\n",
    "\n"
   ]
  },
  {
   "cell_type": "code",
   "execution_count": 9,
   "metadata": {},
   "outputs": [
    {
     "name": "stdout",
     "output_type": "stream",
     "text": [
      "I love red\n",
      "I love rose\n",
      "I love river\n"
     ]
    }
   ],
   "source": [
    "colors = [\"red\", \"rose\", \"river\"]\n",
    "\n",
    "for color in colors:\n",
    "    print(\"I love \" + color)\n",
    "\n",
    "# at least my fourth time reviewing. i love the simple syntax"
   ]
  }
 ],
 "metadata": {
  "kernelspec": {
   "display_name": "Python 3",
   "language": "python",
   "name": "python3"
  },
  "language_info": {
   "codemirror_mode": {
    "name": "ipython",
    "version": 3
   },
   "file_extension": ".py",
   "mimetype": "text/x-python",
   "name": "python",
   "nbconvert_exporter": "python",
   "pygments_lexer": "ipython3",
   "version": "3.9.6"
  }
 },
 "nbformat": 4,
 "nbformat_minor": 2
}
