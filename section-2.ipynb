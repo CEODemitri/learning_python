{
 "cells": [
  {
   "cell_type": "markdown",
   "metadata": {},
   "source": [
    "# Fundamentals"
   ]
  },
  {
   "cell_type": "code",
   "execution_count": 1,
   "metadata": {},
   "outputs": [
    {
     "name": "stdout",
     "output_type": "stream",
     "text": [
      "Hello, friend!\n"
     ]
    }
   ],
   "source": [
    "friend = \"Hank\"\n",
    "user_name = input(\"Enter your username: \")\n",
    "\n",
    "# if statement\n",
    "if user_name == friend: \n",
    "    print(\"Hello, friend!\")\n",
    "else: \n",
    "    print(\"Hello, Stranger!\")\n",
    "\n",
    "\n",
    "family = [\"John\", \"Mary\"]"
   ]
  },
  {
   "cell_type": "markdown",
   "metadata": {},
   "source": [
    "## While Loop\n",
    "runs at least once"
   ]
  },
  {
   "cell_type": "code",
   "execution_count": 6,
   "metadata": {},
   "outputs": [
    {
     "name": "stdout",
     "output_type": "stream",
     "text": [
      "My guy!\n",
      "My guy!\n",
      "Good to go..\n",
      "Good to go..\n",
      "Game Over\n",
      "Red Drop.\n",
      "Red Drop.\n",
      "Red Drop.\n",
      "Red Drop.\n",
      "red all full\n"
     ]
    }
   ],
   "source": [
    "is_learning = True\n",
    "\n",
    "while is_learning:\n",
    "    print(\"My guy!\")\n",
    "    user_input = input(\"Are you still learning? \")\n",
    "    is_learning = user_input == \"yes\"\n",
    "\n",
    "# example for use in a game menu , etc\n",
    "user_reply = input(\"Run the game? (yes/no): \")\n",
    "\n",
    "while user_reply == \"yes\":\n",
    "    print(\"Good to go..\")\n",
    "    user_reply = input(\"Play Again? \")\n",
    "\n",
    "print(\"Game Over\")\n",
    "\n",
    "\n",
    "drop_red = True\n",
    "\n",
    "while drop_red:\n",
    "    print(\"Red Drop.\")\n",
    "    red_full = input(\"More room for red? \")\n",
    "    # dropping imaginary red ball\n",
    "    drop_red = red_full == \"yes\"\n",
    "\n",
    "print(\"red all full\")\n"
   ]
  },
  {
   "cell_type": "code",
   "execution_count": null,
   "metadata": {},
   "outputs": [],
   "source": [
    "# Pseudo Code for a Simple Text Menu"
   ]
  },
  {
   "cell_type": "code",
   "execution_count": null,
   "metadata": {},
   "outputs": [],
   "source": [
    "# Ask the user to choose one of two options:\n",
    "# if they type 'p', our program should print \"Hello\" and then ask the user again. Keep repeating this until...\n",
    "# if they type 'q', our program should terminate.\n",
    "\n",
    "\n",
    "# Let's begin by asking the user to type either 'p' or 'q'. You know how to do this using input()\n",
    "# user_input = ...\n",
    "\n",
    "\n",
    "# Then, begin a while loop that runs for as long as the user doesn't type 'q'.\n",
    "# Inside the loop, have an if statement that checks if the user typed 'p'.\n",
    "#    If they did, print \"Hello\"\n",
    "# Still inside the loop, ask the user again\n",
    "# user_input = ..."
   ]
  },
  {
   "cell_type": "markdown",
   "metadata": {},
   "source": [
    "## For Loop\n",
    "Runs a specific amount of time\n",
    "\n"
   ]
  },
  {
   "cell_type": "code",
   "execution_count": null,
   "metadata": {},
   "outputs": [],
   "source": [
    "colors = [\"red\", \"roses\", \"rivers\"]\n",
    "\n",
    "for color in colors:\n",
    "    print(\"I love \" + color)\n",
    "\n",
    "# at least my fourth time reviewing. i love the simple syntax\n",
    "\n",
    "elements = [0, 1, 2, 3, 4, 5, 6]\n",
    "for index in elements:\n",
    "    print(\"Hello Kosmos\")\n",
    "\n",
    "for i in range(1, 25, 2):\n",
    "    print(index)\n",
    "    print(i)\n"
   ]
  },
  {
   "cell_type": "code",
   "execution_count": 7,
   "metadata": {},
   "outputs": [
    {
     "name": "stdout",
     "output_type": "stream",
     "text": [
      "King was ruler of the period 800.\n",
      "Mercedes was ruler of the period 1800.\n",
      "Aphrodite was ruler of the period 1300.\n",
      "ceoDemitri bought The 2043 Benz when it was only a concept.\n",
      "ceoDemitri bought The 2268 Beamer when it was only a concept.\n",
      "ceoDemitri bought The 2601 Zonda when it was only a concept.\n"
     ]
    }
   ],
   "source": [
    "friends = [\n",
    "    {\"name\": \"King\", \"period\": 800},\n",
    "    {\"name\": \"Mercedes\", \"period\": 1800},\n",
    "    {\"name\": \"Aphrodite\", \"period\": 1300},\n",
    "]\n",
    "\n",
    "for friend in friends:\n",
    "    name = friend[\"name\"]\n",
    "    period = friend[\"period\"]\n",
    "\n",
    "    print(f\"{name} was ruler of the period {period}.\")\n",
    "\n",
    "\n",
    "\n",
    "cars = [\n",
    "    {\"model\": \"Benz\", \"year\": 2043},\n",
    "    {\"model\": \"Beamer\", \"year\": 2268},\n",
    "    {\"model\": \"Zonda\", \"year\": 2601},\n",
    "]\n",
    "\n",
    "for car in cars:\n",
    "    model = car[\"model\"]\n",
    "    year = car[\"year\"]\n",
    "\n",
    "    print(f\"ceoDemitri bought The {year} {model} when it was only a concept.\")"
   ]
  },
  {
   "cell_type": "markdown",
   "metadata": {},
   "source": [
    "## For Loop Review"
   ]
  },
  {
   "cell_type": "code",
   "execution_count": null,
   "metadata": {},
   "outputs": [],
   "source": [
    "# \n",
    "# "
   ]
  },
  {
   "cell_type": "markdown",
   "metadata": {},
   "source": [
    "## Destructuring Code\n",
    "Taking a tuple and converting to multiple variables"
   ]
  },
  {
   "cell_type": "code",
   "execution_count": 1,
   "metadata": {},
   "outputs": [
    {
     "name": "stdout",
     "output_type": "stream",
     "text": [
      "Peter is 41 years old.\n",
      "Arie is 31 years old.\n",
      "Jessica is 22 years old.\n"
     ]
    }
   ],
   "source": [
    "friends = [(\"Peter\", 41), (\"Arie\", 31), (\"Jessica\", 22)]\n",
    "for name, age in friends:\n",
    "    print(f\"{name} is {age} years old.\")\n",
    "    "
   ]
  },
  {
   "cell_type": "markdown",
   "metadata": {},
   "source": [
    "## Iterating Over Dictionaries\n"
   ]
  },
  {
   "cell_type": "code",
   "execution_count": 16,
   "metadata": {},
   "outputs": [
    {
     "name": "stdout",
     "output_type": "stream",
     "text": [
      "...pair\n",
      "bananas has 22 pieces.\n",
      "strawberries has 132 pieces.\n",
      "grapes has 3 pieces.\n",
      "...values\n",
      "22\n",
      "132\n",
      "3\n",
      "...keys\n",
      "bananas\n",
      "strawberries\n",
      "grapes\n"
     ]
    }
   ],
   "source": [
    "fruit_amounts = {\"bananas\": 22, \"strawberries\": 132, \"grapes\": 3}\n",
    "\n",
    "print(\"...pair\")\n",
    "for fruit, amount in fruit_amounts.items():\n",
    "    print(f\"{fruit} has {amount} pieces.\")\n",
    "\n",
    "print(\"...values\")\n",
    "for amount in fruit_amounts.values():\n",
    "    print(f\"{amount}\")\n",
    "\n",
    "print(\"...keys\")\n",
    "for fruit in fruit_amounts.keys():\n",
    "    print(f\"{fruit}\")"
   ]
  },
  {
   "cell_type": "markdown",
   "metadata": {},
   "source": [
    "## For Loops: Finding Prime Numbers"
   ]
  },
  {
   "cell_type": "code",
   "execution_count": 17,
   "metadata": {},
   "outputs": [
    {
     "name": "stdout",
     "output_type": "stream",
     "text": [
      "2 is a prime number.\n",
      "3 is a prime number.\n",
      "5 is a prime number.\n",
      "7 is a prime number.\n"
     ]
    }
   ],
   "source": [
    "for n in range (2, 10):\n",
    "    is_prime = True\n",
    "    for i in range(2, n):\n",
    "        if n % i == 0:\n",
    "            is_prime = False\n",
    "            break\n",
    "    if is_prime:\n",
    "        print(f\"{n} is a prime number.\")"
   ]
  },
  {
   "cell_type": "code",
   "execution_count": 18,
   "metadata": {},
   "outputs": [
    {
     "name": "stdout",
     "output_type": "stream",
     "text": [
      "2 is a prime number.\n",
      "3 is a prime number.\n",
      "5 is a prime number.\n",
      "7 is a prime number.\n"
     ]
    }
   ],
   "source": [
    "# another version of finding prime numbers\n",
    "for n in range (2, 10):\n",
    "    for i in range(2, n):\n",
    "        if n % i == 0:\n",
    "            break\n",
    "    else:\n",
    "        print(f\"{n} is a prime number.\")"
   ]
  },
  {
   "cell_type": "markdown",
   "metadata": {},
   "source": [
    "## List Slicing\n",
    "Getting a part of an iterable\n"
   ]
  },
  {
   "cell_type": "code",
   "execution_count": 2,
   "metadata": {},
   "outputs": [
    {
     "name": "stdout",
     "output_type": "stream",
     "text": [
      "['emerald', 'topaz']\n",
      "['topaz', 'indigo']\n"
     ]
    }
   ],
   "source": [
    "mage_colors = [\"mauve\", \"emerald\", \"topaz\", \"indigo\"]\n",
    "\n",
    "print(mage_colors[1:3])\n",
    "# emerald, topaz\n",
    "\n",
    "\n",
    "# new list is printed just as above. \n",
    "# here we start at the end to last element and work all the way to the last element\n",
    "print(mage_colors[-2:])"
   ]
  },
  {
   "cell_type": "markdown",
   "metadata": {},
   "source": [
    "## List Comprehensions\n",
    "Create new list"
   ]
  },
  {
   "cell_type": "code",
   "execution_count": 21,
   "metadata": {},
   "outputs": [
    {
     "name": "stdout",
     "output_type": "stream",
     "text": [
      "[0, 2, 4, 6, 8, 10, 12, 14, 16, 18]\n",
      "{'9 doubled is 18.', '7 doubled is 14.', '2 doubled is 4.', '8 doubled is 16.', '6 doubled is 12.', '1 doubled is 2.', '0 doubled is 0.', '5 doubled is 10.', '4 doubled is 8.', '3 doubled is 6.'}\n",
      "['saturn', 'sun', 'moon', 'neptune', 'pluto']\n",
      "moon is already a listed planet.\n"
     ]
    }
   ],
   "source": [
    "numbers = [0, 1, 2, 3, 4, 5, 6, 7, 8, 9]\n",
    "doubled_numbers = []\n",
    "\n",
    "# old way\n",
    "# for numbers in numbers:\n",
    "#     doubled_numbers.append(numbers * 2)\n",
    "\n",
    "# print(doubled_numbers)\n",
    "\n",
    "# easier way with list comprehension\n",
    "doubled_numbers = [numbers * 2 for numbers in numbers]\n",
    "\n",
    "print(doubled_numbers)\n",
    "\n",
    "numbers_in_string = {f\"{number} doubled is {number * 2}.\" for number in numbers}\n",
    "print(numbers_in_string)\n",
    "# why didn't the array print in order?\n",
    "\n",
    "\n",
    "planets = [\"Saturn\", \"Sun\", \"Moon\", \"Neptune\", \"Pluto\"]\n",
    "lower = [planet.lower() for planet in planets]\n",
    "print(lower)\n",
    "\n",
    "new_planet = input(\"Enter a new planet\")\n",
    "# in a perfect world this would be fine\n",
    "# if new_planet in planets:\n",
    "#     print(f\"{new_planet} is already a listed planet.\")\n",
    "\n",
    "# but its not perfect so we need to make each variable the same case so lower both\n",
    "if new_planet.lower() in lower:\n",
    "    print(f\"{new_planet.lower()} is already a listed planet.\")\n",
    "\n",
    "# planet.title() is the normal case for proper nouns"
   ]
  },
  {
   "cell_type": "markdown",
   "metadata": {},
   "source": [
    "## Comprehensions with Conditionals\n",
    "create a filtered new list"
   ]
  },
  {
   "cell_type": "code",
   "execution_count": 4,
   "metadata": {},
   "outputs": [
    {
     "name": "stdout",
     "output_type": "stream",
     "text": [
      "{'oranges', 'apples'}\n",
      "['Oranges', 'apples']\n"
     ]
    }
   ],
   "source": [
    "ages = [22, 44, 21, 18, 31]\n",
    "odds = [age for age in ages if age % 2 == 1]\n",
    "\n",
    "fruits = [\"strawberry\", \"Apples\", \"oranges\"]\n",
    "favorite_fruits = [\"Oranges\", \"apples\"]\n",
    "\n",
    "fruits_lower = set([f.lower() for f in fruits])\n",
    "favorite_fruits_lower = set([f.lower() for f in favorite_fruits])\n",
    "\n",
    "print(fruits_lower.intersection(favorite_fruits_lower))\n",
    "\n",
    "\n",
    "best_fruits = [\n",
    "    favorite for favorite in favorite_fruits if favorite.lower() in favorite_fruits_lower  \n",
    "]\n",
    "print(best_fruits)"
   ]
  },
  {
   "cell_type": "markdown",
   "metadata": {},
   "source": [
    "## Set and Dictionary Comprehensions\n",
    "Create a new dictionary\n",
    "\n",
    "ages = [22, 44, 21, 18, 31]\n",
    "odds = [age for age in ages if age % 2 == 1]\n",
    "\n",
    "fruits = [\"strawberry\", \"Apples\", \"oranges\"]\n",
    "\n",
    "\n",
    "new_dict = {\n",
    "    \"odds\": odds,\n",
    "    \"fruits\": fruits,\n",
    "}\n",
    "\n",
    "print(new_dict)"
   ]
  },
  {
   "cell_type": "markdown",
   "metadata": {},
   "source": [
    "## Zip Function\n",
    "Combine two collections into one list where each element is a tuple of elements\n",
    "\n",
    "names = [\"John\", \"Mary\"]\n",
    "ages = [22, 44]\n",
    "\n",
    "new_list = list(zip(names, ages))\n",
    "print(new_list)"
   ]
  },
  {
   "cell_type": "code",
   "execution_count": 3,
   "metadata": {},
   "outputs": [
    {
     "name": "stdout",
     "output_type": "stream",
     "text": [
      "[('John', 22), ('Mary', 44)]\n",
      "[('John', 22, 1), ('Mary', 44, 2)]\n"
     ]
    }
   ],
   "source": [
    "\n",
    "names = [\"John\", \"Mary\"]\n",
    "ages = [22, 44]\n",
    "\n",
    "new_list = list(zip(names, ages))\n",
    "print(new_list)\n",
    "\n",
    "other_list = list(zip(names, ages, (1, 2)))\n",
    "print(other_list)\n"
   ]
  },
  {
   "cell_type": "markdown",
   "metadata": {},
   "source": [
    "## Enumerate Function\n",
    "gives a collection a new lsit that pair each element with an index"
   ]
  },
  {
   "cell_type": "code",
   "execution_count": 5,
   "metadata": {},
   "outputs": [
    {
     "name": "stdout",
     "output_type": "stream",
     "text": [
      "red\n",
      "0\n",
      "green\n",
      "1\n",
      "gold\n",
      "2\n",
      "purple\n",
      "3\n",
      "start of enumerate\n",
      "red\n",
      "0\n",
      "green\n",
      "1\n",
      "gold\n",
      "2\n",
      "purple\n",
      "3\n",
      "[(0, 'red'), (1, 'green'), (2, 'gold'), (3, 'purple')]\n"
     ]
    }
   ],
   "source": [
    "apples = [\"red\", \"green\", \"gold\", \"purple\"]\n",
    "\n",
    "counter = 0\n",
    "\n",
    "for apple in apples:\n",
    "    print(apple)\n",
    "    print(counter)\n",
    "    counter += 1\n",
    "\n",
    "# enumerate function\n",
    "print(\"start of enumerate\")\n",
    "for counter, apple in enumerate(apples):\n",
    "    print(apple)\n",
    "    print(counter)\n",
    "\n",
    "print(list(enumerate(apples)))"
   ]
  },
  {
   "cell_type": "markdown",
   "metadata": {},
   "source": [
    "## FUNCTIONS!! In python\n",
    "always start with def keyword\n",
    "\n",
    "def say_hello(name):\n",
    "    print(f\"Hello {name}\")\n",
    "    return\n",
    "\n",
    "say_hello(\"Kosmos\")"
   ]
  },
  {
   "cell_type": "code",
   "execution_count": 9,
   "metadata": {},
   "outputs": [
    {
     "name": "stdout",
     "output_type": "stream",
     "text": [
      "ceoDemitri\n"
     ]
    },
    {
     "name": "stdout",
     "output_type": "stream",
     "text": [
      "y\n",
      "ceoDemitri\n",
      "y\n",
      "ceoDemitri\n",
      "y\n",
      "ceoDemitri\n",
      "n\n"
     ]
    }
   ],
   "source": [
    "def ceoDemitri():\n",
    "    boss = True\n",
    "    while boss:\n",
    "        print(\"ceoDemitri\")\n",
    "        still = input(\"y / n\")\n",
    "        if still == \"y\":\n",
    "            boss = True\n",
    "        else:\n",
    "            boss = False\n",
    "        print(still)\n",
    "    return\n",
    "\n",
    "ceoDemitri()\n",
    "        "
   ]
  },
  {
   "cell_type": "markdown",
   "metadata": {},
   "source": [
    "## Arguements and Parameters"
   ]
  },
  {
   "cell_type": "code",
   "execution_count": 1,
   "metadata": {},
   "outputs": [
    {
     "ename": "TypeError",
     "evalue": "unhashable type: 'dict'",
     "output_type": "error",
     "traceback": [
      "\u001b[0;31m---------------------------------------------------------------------------\u001b[0m",
      "\u001b[0;31mTypeError\u001b[0m                                 Traceback (most recent call last)",
      "Cell \u001b[0;32mIn[1], line 1\u001b[0m\n\u001b[0;32m----> 1\u001b[0m cars \u001b[38;5;241m=\u001b[39m {\n\u001b[1;32m      2\u001b[0m     {\u001b[38;5;124m\"\u001b[39m\u001b[38;5;124mmake\u001b[39m\u001b[38;5;124m\"\u001b[39m: \u001b[38;5;124m\"\u001b[39m\u001b[38;5;124mBMW\u001b[39m\u001b[38;5;124m\"\u001b[39m,\n\u001b[1;32m      3\u001b[0m     \u001b[38;5;124m\"\u001b[39m\u001b[38;5;124mmodel\u001b[39m\u001b[38;5;124m\"\u001b[39m: \u001b[38;5;124m\"\u001b[39m\u001b[38;5;124mM3\u001b[39m\u001b[38;5;124m\"\u001b[39m,\n\u001b[1;32m      4\u001b[0m     \u001b[38;5;124m\"\u001b[39m\u001b[38;5;124mmileage\u001b[39m\u001b[38;5;124m\"\u001b[39m: \u001b[38;5;241m5200\u001b[39m,\n\u001b[1;32m      5\u001b[0m     \u001b[38;5;124m\"\u001b[39m\u001b[38;5;124mfuel_consumed\u001b[39m\u001b[38;5;124m\"\u001b[39m: \u001b[38;5;241m520\u001b[39m},\n\u001b[1;32m      6\u001b[0m     {\u001b[38;5;124m\"\u001b[39m\u001b[38;5;124mmake\u001b[39m\u001b[38;5;124m\"\u001b[39m: \u001b[38;5;124m\"\u001b[39m\u001b[38;5;124mMercedes\u001b[39m\u001b[38;5;124m\"\u001b[39m,\n\u001b[1;32m      7\u001b[0m     \u001b[38;5;124m\"\u001b[39m\u001b[38;5;124mmodel\u001b[39m\u001b[38;5;124m\"\u001b[39m: \u001b[38;5;124m\"\u001b[39m\u001b[38;5;124mS-Class\u001b[39m\u001b[38;5;124m\"\u001b[39m,\n\u001b[1;32m      8\u001b[0m     \u001b[38;5;124m\"\u001b[39m\u001b[38;5;124mmileage\u001b[39m\u001b[38;5;124m\"\u001b[39m: \u001b[38;5;241m12000\u001b[39m,\n\u001b[1;32m      9\u001b[0m     \u001b[38;5;124m\"\u001b[39m\u001b[38;5;124mfuel_consumed\u001b[39m\u001b[38;5;124m\"\u001b[39m: \u001b[38;5;241m1200\u001b[39m},\n\u001b[1;32m     10\u001b[0m     {\u001b[38;5;124m\"\u001b[39m\u001b[38;5;124mmake\u001b[39m\u001b[38;5;124m\"\u001b[39m: \u001b[38;5;124m\"\u001b[39m\u001b[38;5;124mToyota\u001b[39m\u001b[38;5;124m\"\u001b[39m,\n\u001b[1;32m     11\u001b[0m      \u001b[38;5;124m\"\u001b[39m\u001b[38;5;124mmodel\u001b[39m\u001b[38;5;124m\"\u001b[39m: \u001b[38;5;124m\"\u001b[39m\u001b[38;5;124mCorolla\u001b[39m\u001b[38;5;124m\"\u001b[39m,\n\u001b[1;32m     12\u001b[0m      \u001b[38;5;124m\"\u001b[39m\u001b[38;5;124mmileage\u001b[39m\u001b[38;5;124m\"\u001b[39m: \u001b[38;5;241m10000\u001b[39m,\n\u001b[1;32m     13\u001b[0m      \u001b[38;5;124m\"\u001b[39m\u001b[38;5;124mfuel_consumed\u001b[39m\u001b[38;5;124m\"\u001b[39m: \u001b[38;5;241m1000\u001b[39m},\n\u001b[1;32m     14\u001b[0m }\n\u001b[1;32m     16\u001b[0m \u001b[38;5;28;01mdef\u001b[39;00m \u001b[38;5;21mcalculate_mpg\u001b[39m(car_to_calculate):\n\u001b[1;32m     17\u001b[0m     mpg \u001b[38;5;241m=\u001b[39m car_to_calculate[\u001b[38;5;124m\"\u001b[39m\u001b[38;5;124mmileage\u001b[39m\u001b[38;5;124m\"\u001b[39m] \u001b[38;5;241m/\u001b[39m car_to_calculate[\u001b[38;5;124m\"\u001b[39m\u001b[38;5;124mfuel_consumed\u001b[39m\u001b[38;5;124m\"\u001b[39m]\n",
      "\u001b[0;31mTypeError\u001b[0m: unhashable type: 'dict'"
     ]
    }
   ],
   "source": [
    "cars = [\n",
    "    {\"make\": \"BMW\",\n",
    "    \"model\": \"M3\",\n",
    "    \"mileage\": 5200,\n",
    "    \"fuel_consumed\": 520},\n",
    "    {\"make\": \"Mercedes\",\n",
    "    \"model\": \"S-Class\",\n",
    "    \"mileage\": 12000,\n",
    "    \"fuel_consumed\": 1200},\n",
    "    {\"make\": \"Toyota\",\n",
    "     \"model\": \"Corolla\",\n",
    "     \"mileage\": 10000,\n",
    "     \"fuel_consumed\": 1000},\n",
    "]\n",
    "\n",
    "def calculate_mpg(car):\n",
    "    mpg = car[\"mileage\"] / car[\"fuel_consumed\"]\n",
    "    name = f\"{car['make']} {car['model']}\"\n",
    "    print(f\"{name} does {mpg} per gallon\")\n",
    "\n",
    "calculate_mpg(cars[0])\n",
    "\n",
    "for car in cars:\n",
    "    calculate_mpg(car)"
   ]
  }
 ],
 "metadata": {
  "kernelspec": {
   "display_name": "Python 3",
   "language": "python",
   "name": "python3"
  },
  "language_info": {
   "codemirror_mode": {
    "name": "ipython",
    "version": 3
   },
   "file_extension": ".py",
   "mimetype": "text/x-python",
   "name": "python",
   "nbconvert_exporter": "python",
   "pygments_lexer": "ipython3",
   "version": "3.9.6"
  }
 },
 "nbformat": 4,
 "nbformat_minor": 2
}
