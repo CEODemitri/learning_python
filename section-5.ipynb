{
 "cells": [
  {
   "cell_type": "markdown",
   "metadata": {},
   "source": [
    "# ERRORS IN PYTHON\n",
    "1. Index <br>\n",
    "index out of range; trying to access index that doesn't exist\n",
    "---\n",
    "\n",
    "2. Key <br>\n",
    "obvious\n",
    "---\n",
    "\n",
    "3. Name <br>\n",
    "obvious\n",
    "---\n",
    "\n",
    "4. Attribute <br>\n",
    "obvious\n",
    "---\n",
    "\n",
    "5. NotImplemented <br>\n",
    "used to skip a method/feature that is not yet implemented\n",
    "---\n",
    "\n",
    "6. Runtime <br>\n",
    "Generic, base class error. Other errors extend from here\n",
    "--- \n",
    "\n",
    "7. Syntax <br>\n",
    "obvious\n",
    "---\n",
    "\n",
    "\n",
    "8. Indentation <br>\n",
    "obvious\n",
    "---\n",
    "\n",
    "9. Tab <br>\n",
    "dont mix and match indentation types, tab or spaces\n",
    "---\n",
    "\n",
    "10. Type <br>\n",
    "some classes have built in code that raise this error when attempt to mix different types\n",
    "---\n",
    "\n",
    "11. Value <br>\n",
    "obvious\n",
    "---\n",
    "\n",
    "12. Import <br>\n",
    "circular imports\n",
    "---\n",
    "\n",
    "13. Deprecation <br>\n",
    "obvious\n",
    "---\n"
   ]
  },
  {
   "cell_type": "markdown",
   "metadata": {},
   "source": [
    "## Best Case\n",
    "Don't Raise these errors. Create your own.\n",
    "WITH Better names"
   ]
  },
  {
   "cell_type": "markdown",
   "metadata": {},
   "source": [
    "# RAISING ERRORS IN PYTHON"
   ]
  },
  {
   "cell_type": "code",
   "execution_count": 8,
   "metadata": {},
   "outputs": [
    {
     "name": "stdout",
     "output_type": "stream",
     "text": [
      "1\n"
     ]
    }
   ],
   "source": [
    "class Car:\n",
    "    def __init__(self, make, model):\n",
    "        self.make = make\n",
    "        self.model = model\n",
    "\n",
    "        def __repr__(self):\n",
    "            return f'<Car {self.make} {self.model}>'\n",
    "\n",
    "\n",
    "class Garage:\n",
    "    def __init__(self):\n",
    "        self.cars = []\n",
    "\n",
    "    def __len__(self):\n",
    "        return len(self.cars)\n",
    "    \n",
    "    def add_car(self, car):\n",
    "        if not isinstance(car, Car):\n",
    "            raise TypeError(f'Tried to add `{car.__class__.__name__}` to garage. Only instancs of Car.')\n",
    "        self.cars.append(car)\n",
    "        # raise NotImplementedError(\"We can't add cars to garage yet.\")\n",
    "    \n",
    "ford = Garage()\n",
    "# fixes my custom error\n",
    "car = Car('Ford', 'Mustang')\n",
    "ford.add_car(car)\n",
    "print(len(ford))"
   ]
  },
  {
   "cell_type": "code",
   "execution_count": null,
   "metadata": {},
   "outputs": [],
   "source": [
    "# raise an error if user inputs a negative number\n",
    "def count_from_zero_to_n(n):\n",
    "    if n < 0:\n",
    "        raise ValueError(\"My guy, please use only Positive Numbers\")\n",
    "    for x in range(0, n+1):\n",
    "        print(x)\n",
    "\n",
    "count_from_zero_to_n(4)\n",
    "count_from_zero_to_n(-4)"
   ]
  },
  {
   "cell_type": "markdown",
   "metadata": {},
   "source": [
    "## Creating our own errors"
   ]
  }
 ],
 "metadata": {
  "kernelspec": {
   "display_name": "Python 3",
   "language": "python",
   "name": "python3"
  },
  "language_info": {
   "codemirror_mode": {
    "name": "ipython",
    "version": 3
   },
   "file_extension": ".py",
   "mimetype": "text/x-python",
   "name": "python",
   "nbconvert_exporter": "python",
   "pygments_lexer": "ipython3",
   "version": "3.9.6"
  }
 },
 "nbformat": 4,
 "nbformat_minor": 2
}
