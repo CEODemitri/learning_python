{
 "cells": [
  {
   "cell_type": "markdown",
   "metadata": {},
   "source": [
    "# ERRORS IN PYTHON\n",
    "1. Index <br>\n",
    "index out of range; trying to access index that doesn't exist\n",
    "---\n",
    "\n",
    "2. Key <br>\n",
    "obvious\n",
    "---\n",
    "\n",
    "3. Name <br>\n",
    "obvious\n",
    "---\n",
    "\n",
    "4. Attribute <br>\n",
    "obvious\n",
    "---\n",
    "\n",
    "5. NotImplemented <br>\n",
    "used to skip a method/feature that is not yet implemented\n",
    "---\n",
    "\n",
    "6. Runtime <br>\n",
    "Generic, base class error. Other errors extend from here\n",
    "--- \n",
    "\n",
    "7. Syntax <br>\n",
    "obvious\n",
    "---\n",
    "\n",
    "\n",
    "8. Indentation <br>\n",
    "obvious\n",
    "---\n",
    "\n",
    "9. Tab <br>\n",
    "dont mix and match indentation types, tab or spaces\n",
    "---\n",
    "\n",
    "10. Type <br>\n",
    "some classes have built in code that raise this error when attempt to mix different types\n",
    "---\n",
    "\n",
    "11. Value <br>\n",
    "obvious\n",
    "---\n",
    "\n",
    "12. Import <br>\n",
    "circular imports\n",
    "---\n",
    "\n",
    "13. Deprecation <br>\n",
    "obvious\n",
    "---\n"
   ]
  },
  {
   "cell_type": "markdown",
   "metadata": {},
   "source": [
    "## Best Case\n",
    "Don't Raise these errors. Create your own.\n",
    "WITH Better names"
   ]
  },
  {
   "cell_type": "markdown",
   "metadata": {},
   "source": [
    "# RAISING ERRORS IN PYTHON"
   ]
  }
 ],
 "metadata": {
  "language_info": {
   "name": "python"
  }
 },
 "nbformat": 4,
 "nbformat_minor": 2
}
