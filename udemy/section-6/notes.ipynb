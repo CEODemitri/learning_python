{
 "cells": [
  {
   "cell_type": "markdown",
   "metadata": {},
   "source": [
    "# Files in Python\n",
    "\n",
    "Notepad for section. Seems each Video needs own directory"
   ]
  },
  {
   "cell_type": "markdown",
   "metadata": {},
   "source": [
    "CSV files can hold more complex data than plain txt files\n"
   ]
  },
  {
   "cell_type": "markdown",
   "metadata": {},
   "source": [
    "## Using the with Syntax in Python\n",
    "reduces chances for bugs by auto open and close\n",
    "\n",
    "<pre>\n",
    "    import json\n",
    "\n",
    "    with open('friends_json.txt', 'r') as file:\n",
    "        file_contents = json.load(file) <=# reads files and turns into dictionary\n",
    "\n",
    "    print(file_contents['friends'][0])\n",
    "\n",
    "\n",
    "    with open('cars_json.txt', 'w') as file:\n",
    "        json.dump(cars, file)\n",
    "\n",
    "    \n",
    "</pre>\n",
    "\n",
    "\n",
    "with -> a **context manager**"
   ]
  },
  {
   "cell_type": "markdown",
   "metadata": {},
   "source": [
    "## Importing Own File\n",
    "Splitting code into multiple \n",
    "\n",
    "if making a components folder for functions, add a **blank file** __init__.py"
   ]
  }
 ],
 "metadata": {
  "language_info": {
   "name": "python"
  }
 },
 "nbformat": 4,
 "nbformat_minor": 2
}
