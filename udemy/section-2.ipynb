{
 "cells": [
  {
   "cell_type": "markdown",
   "metadata": {},
   "source": [
    "# Fundamentals"
   ]
  },
  {
   "cell_type": "code",
   "execution_count": 1,
   "metadata": {},
   "outputs": [
    {
     "name": "stdout",
     "output_type": "stream",
     "text": [
      "Hello, friend!\n"
     ]
    }
   ],
   "source": [
    "friend = \"Hank\"\n",
    "user_name = input(\"Enter your username: \")\n",
    "\n",
    "# if statement\n",
    "if user_name == friend: \n",
    "    print(\"Hello, friend!\")\n",
    "else: \n",
    "    print(\"Hello, Stranger!\")\n",
    "\n",
    "\n",
    "family = [\"John\", \"Mary\"]"
   ]
  },
  {
   "cell_type": "markdown",
   "metadata": {},
   "source": [
    "## While Loop\n",
    "runs at least once"
   ]
  },
  {
   "cell_type": "code",
   "execution_count": 6,
   "metadata": {},
   "outputs": [
    {
     "name": "stdout",
     "output_type": "stream",
     "text": [
      "My guy!\n",
      "My guy!\n",
      "Good to go..\n",
      "Good to go..\n",
      "Game Over\n",
      "Red Drop.\n",
      "Red Drop.\n",
      "Red Drop.\n",
      "Red Drop.\n",
      "red all full\n"
     ]
    }
   ],
   "source": [
    "is_learning = True\n",
    "\n",
    "while is_learning:\n",
    "    print(\"My guy!\")\n",
    "    user_input = input(\"Are you still learning? \")\n",
    "    is_learning = user_input == \"yes\"\n",
    "\n",
    "# example for use in a game menu , etc\n",
    "user_reply = input(\"Run the game? (yes/no): \")\n",
    "\n",
    "while user_reply == \"yes\":\n",
    "    print(\"Good to go..\")\n",
    "    user_reply = input(\"Play Again? \")\n",
    "\n",
    "print(\"Game Over\")\n",
    "\n",
    "\n",
    "drop_red = True\n",
    "\n",
    "while drop_red:\n",
    "    print(\"Red Drop.\")\n",
    "    red_full = input(\"More room for red? \")\n",
    "    # dropping imaginary red ball\n",
    "    drop_red = red_full == \"yes\"\n",
    "\n",
    "print(\"red all full\")\n"
   ]
  },
  {
   "cell_type": "code",
   "execution_count": null,
   "metadata": {},
   "outputs": [],
   "source": [
    "# Pseudo Code for a Simple Text Menu"
   ]
  },
  {
   "cell_type": "code",
   "execution_count": null,
   "metadata": {},
   "outputs": [],
   "source": [
    "# Ask the user to choose one of two options:\n",
    "# if they type 'p', our program should print \"Hello\" and then ask the user again. Keep repeating this until...\n",
    "# if they type 'q', our program should terminate.\n",
    "\n",
    "\n",
    "# Let's begin by asking the user to type either 'p' or 'q'. You know how to do this using input()\n",
    "# user_input = ...\n",
    "\n",
    "\n",
    "# Then, begin a while loop that runs for as long as the user doesn't type 'q'.\n",
    "# Inside the loop, have an if statement that checks if the user typed 'p'.\n",
    "#    If they did, print \"Hello\"\n",
    "# Still inside the loop, ask the user again\n",
    "# user_input = ..."
   ]
  },
  {
   "cell_type": "markdown",
   "metadata": {},
   "source": [
    "## For Loop\n",
    "Runs a specific amount of time\n",
    "\n"
   ]
  },
  {
   "cell_type": "code",
   "execution_count": null,
   "metadata": {},
   "outputs": [],
   "source": [
    "colors = [\"red\", \"roses\", \"rivers\"]\n",
    "\n",
    "for color in colors:\n",
    "    print(\"I love \" + color)\n",
    "\n",
    "# at least my fourth time reviewing. i love the simple syntax\n",
    "\n",
    "elements = [0, 1, 2, 3, 4, 5, 6]\n",
    "for index in elements:\n",
    "    print(\"Hello Kosmos\")\n",
    "\n",
    "for i in range(1, 25, 2):\n",
    "    print(index)\n",
    "    print(i)\n"
   ]
  },
  {
   "cell_type": "code",
   "execution_count": 7,
   "metadata": {},
   "outputs": [
    {
     "name": "stdout",
     "output_type": "stream",
     "text": [
      "King was ruler of the period 800.\n",
      "Mercedes was ruler of the period 1800.\n",
      "Aphrodite was ruler of the period 1300.\n",
      "ceoDemitri bought The 2043 Benz when it was only a concept.\n",
      "ceoDemitri bought The 2268 Beamer when it was only a concept.\n",
      "ceoDemitri bought The 2601 Zonda when it was only a concept.\n"
     ]
    }
   ],
   "source": [
    "friends = [\n",
    "    {\"name\": \"King\", \"period\": 800},\n",
    "    {\"name\": \"Mercedes\", \"period\": 1800},\n",
    "    {\"name\": \"Aphrodite\", \"period\": 1300},\n",
    "]\n",
    "\n",
    "for friend in friends:\n",
    "    name = friend[\"name\"]\n",
    "    period = friend[\"period\"]\n",
    "\n",
    "    print(f\"{name} was ruler of the period {period}.\")\n",
    "\n",
    "\n",
    "\n",
    "cars = [\n",
    "    {\"model\": \"Benz\", \"year\": 2043},\n",
    "    {\"model\": \"Beamer\", \"year\": 2268},\n",
    "    {\"model\": \"Zonda\", \"year\": 2601},\n",
    "]\n",
    "\n",
    "for car in cars:\n",
    "    model = car[\"model\"]\n",
    "    year = car[\"year\"]\n",
    "\n",
    "    print(f\"ceoDemitri bought The {year} {model} when it was only a concept.\")"
   ]
  },
  {
   "cell_type": "markdown",
   "metadata": {},
   "source": [
    "## For Loop Review"
   ]
  },
  {
   "cell_type": "code",
   "execution_count": null,
   "metadata": {},
   "outputs": [],
   "source": [
    "# \n",
    "# "
   ]
  },
  {
   "cell_type": "markdown",
   "metadata": {},
   "source": [
    "## Destructuring Code\n",
    "Taking a tuple and converting to multiple variables"
   ]
  },
  {
   "cell_type": "code",
   "execution_count": 1,
   "metadata": {},
   "outputs": [
    {
     "name": "stdout",
     "output_type": "stream",
     "text": [
      "Peter is 41 years old.\n",
      "Arie is 31 years old.\n",
      "Jessica is 22 years old.\n"
     ]
    }
   ],
   "source": [
    "friends = [(\"Peter\", 41), (\"Arie\", 31), (\"Jessica\", 22)]\n",
    "for name, age in friends:\n",
    "    print(f\"{name} is {age} years old.\")\n",
    "    "
   ]
  },
  {
   "cell_type": "markdown",
   "metadata": {},
   "source": [
    "## Iterating Over Dictionaries\n"
   ]
  },
  {
   "cell_type": "code",
   "execution_count": 16,
   "metadata": {},
   "outputs": [
    {
     "name": "stdout",
     "output_type": "stream",
     "text": [
      "...pair\n",
      "bananas has 22 pieces.\n",
      "strawberries has 132 pieces.\n",
      "grapes has 3 pieces.\n",
      "...values\n",
      "22\n",
      "132\n",
      "3\n",
      "...keys\n",
      "bananas\n",
      "strawberries\n",
      "grapes\n"
     ]
    }
   ],
   "source": [
    "fruit_amounts = {\"bananas\": 22, \"strawberries\": 132, \"grapes\": 3}\n",
    "\n",
    "print(\"...pair\")\n",
    "for fruit, amount in fruit_amounts.items():\n",
    "    print(f\"{fruit} has {amount} pieces.\")\n",
    "\n",
    "print(\"...values\")\n",
    "for amount in fruit_amounts.values():\n",
    "    print(f\"{amount}\")\n",
    "\n",
    "print(\"...keys\")\n",
    "for fruit in fruit_amounts.keys():\n",
    "    print(f\"{fruit}\")"
   ]
  },
  {
   "cell_type": "markdown",
   "metadata": {},
   "source": [
    "## For Loops: Finding Prime Numbers"
   ]
  },
  {
   "cell_type": "code",
   "execution_count": 17,
   "metadata": {},
   "outputs": [
    {
     "name": "stdout",
     "output_type": "stream",
     "text": [
      "2 is a prime number.\n",
      "3 is a prime number.\n",
      "5 is a prime number.\n",
      "7 is a prime number.\n"
     ]
    }
   ],
   "source": [
    "for n in range (2, 10):\n",
    "    is_prime = True\n",
    "    for i in range(2, n):\n",
    "        if n % i == 0:\n",
    "            is_prime = False\n",
    "            break\n",
    "    if is_prime:\n",
    "        print(f\"{n} is a prime number.\")"
   ]
  },
  {
   "cell_type": "code",
   "execution_count": 18,
   "metadata": {},
   "outputs": [
    {
     "name": "stdout",
     "output_type": "stream",
     "text": [
      "2 is a prime number.\n",
      "3 is a prime number.\n",
      "5 is a prime number.\n",
      "7 is a prime number.\n"
     ]
    }
   ],
   "source": [
    "# another version of finding prime numbers\n",
    "for n in range (2, 10):\n",
    "    for i in range(2, n):\n",
    "        if n % i == 0:\n",
    "            break\n",
    "    else:\n",
    "        print(f\"{n} is a prime number.\")"
   ]
  },
  {
   "cell_type": "markdown",
   "metadata": {},
   "source": [
    "## List Slicing\n",
    "Getting a part of an iterable\n"
   ]
  },
  {
   "cell_type": "code",
   "execution_count": 2,
   "metadata": {},
   "outputs": [
    {
     "name": "stdout",
     "output_type": "stream",
     "text": [
      "['emerald', 'topaz']\n",
      "['topaz', 'indigo']\n"
     ]
    }
   ],
   "source": [
    "mage_colors = [\"mauve\", \"emerald\", \"topaz\", \"indigo\"]\n",
    "\n",
    "print(mage_colors[1:3])\n",
    "# emerald, topaz\n",
    "\n",
    "\n",
    "# new list is printed just as above. \n",
    "# here we start at the end to last element and work all the way to the last element\n",
    "print(mage_colors[-2:])"
   ]
  },
  {
   "cell_type": "markdown",
   "metadata": {},
   "source": [
    "## List Comprehensions\n",
    "Create new list"
   ]
  },
  {
   "cell_type": "code",
   "execution_count": 21,
   "metadata": {},
   "outputs": [
    {
     "name": "stdout",
     "output_type": "stream",
     "text": [
      "[0, 2, 4, 6, 8, 10, 12, 14, 16, 18]\n",
      "{'9 doubled is 18.', '7 doubled is 14.', '2 doubled is 4.', '8 doubled is 16.', '6 doubled is 12.', '1 doubled is 2.', '0 doubled is 0.', '5 doubled is 10.', '4 doubled is 8.', '3 doubled is 6.'}\n",
      "['saturn', 'sun', 'moon', 'neptune', 'pluto']\n",
      "moon is already a listed planet.\n"
     ]
    }
   ],
   "source": [
    "numbers = [0, 1, 2, 3, 4, 5, 6, 7, 8, 9]\n",
    "doubled_numbers = []\n",
    "\n",
    "# old way\n",
    "# for numbers in numbers:\n",
    "#     doubled_numbers.append(numbers * 2)\n",
    "\n",
    "# print(doubled_numbers)\n",
    "\n",
    "# easier way with list comprehension\n",
    "doubled_numbers = [numbers * 2 for numbers in numbers]\n",
    "\n",
    "print(doubled_numbers)\n",
    "\n",
    "numbers_in_string = {f\"{number} doubled is {number * 2}.\" for number in numbers}\n",
    "print(numbers_in_string)\n",
    "# why didn't the array print in order?\n",
    "\n",
    "\n",
    "planets = [\"Saturn\", \"Sun\", \"Moon\", \"Neptune\", \"Pluto\"]\n",
    "lower = [planet.lower() for planet in planets]\n",
    "print(lower)\n",
    "\n",
    "new_planet = input(\"Enter a new planet\")\n",
    "# in a perfect world this would be fine\n",
    "# if new_planet in planets:\n",
    "#     print(f\"{new_planet} is already a listed planet.\")\n",
    "\n",
    "# but its not perfect so we need to make each variable the same case so lower both\n",
    "if new_planet.lower() in lower:\n",
    "    print(f\"{new_planet.lower()} is already a listed planet.\")\n",
    "\n",
    "# planet.title() is the normal case for proper nouns"
   ]
  },
  {
   "cell_type": "markdown",
   "metadata": {},
   "source": [
    "## Comprehensions with Conditionals\n",
    "create a filtered new list"
   ]
  },
  {
   "cell_type": "code",
   "execution_count": 4,
   "metadata": {},
   "outputs": [
    {
     "name": "stdout",
     "output_type": "stream",
     "text": [
      "{'oranges', 'apples'}\n",
      "['Oranges', 'apples']\n"
     ]
    }
   ],
   "source": [
    "ages = [22, 44, 21, 18, 31]\n",
    "odds = [age for age in ages if age % 2 == 1]\n",
    "\n",
    "fruits = [\"strawberry\", \"Apples\", \"oranges\"]\n",
    "favorite_fruits = [\"Oranges\", \"apples\"]\n",
    "\n",
    "fruits_lower = set([f.lower() for f in fruits])\n",
    "favorite_fruits_lower = set([f.lower() for f in favorite_fruits])\n",
    "\n",
    "print(fruits_lower.intersection(favorite_fruits_lower))\n",
    "\n",
    "\n",
    "best_fruits = [\n",
    "    favorite for favorite in favorite_fruits if favorite.lower() in favorite_fruits_lower  \n",
    "]\n",
    "print(best_fruits)"
   ]
  },
  {
   "cell_type": "markdown",
   "metadata": {},
   "source": [
    "## Set and Dictionary Comprehensions\n",
    "Create a new dictionary\n",
    "\n",
    "ages = [22, 44, 21, 18, 31]\n",
    "odds = [age for age in ages if age % 2 == 1]\n",
    "\n",
    "fruits = [\"strawberry\", \"Apples\", \"oranges\"]\n",
    "\n",
    "\n",
    "new_dict = {\n",
    "    \"odds\": odds,\n",
    "    \"fruits\": fruits,\n",
    "}\n",
    "\n",
    "print(new_dict)"
   ]
  },
  {
   "cell_type": "markdown",
   "metadata": {},
   "source": [
    "## Zip Function\n",
    "Combine two collections into one list where each element is a tuple of elements\n",
    "\n",
    "names = [\"John\", \"Mary\"]\n",
    "ages = [22, 44]\n",
    "\n",
    "new_list = list(zip(names, ages))\n",
    "print(new_list)"
   ]
  },
  {
   "cell_type": "code",
   "execution_count": 3,
   "metadata": {},
   "outputs": [
    {
     "name": "stdout",
     "output_type": "stream",
     "text": [
      "[('John', 22), ('Mary', 44)]\n",
      "[('John', 22, 1), ('Mary', 44, 2)]\n"
     ]
    }
   ],
   "source": [
    "\n",
    "names = [\"John\", \"Mary\"]\n",
    "ages = [22, 44]\n",
    "\n",
    "new_list = list(zip(names, ages))\n",
    "print(new_list)\n",
    "\n",
    "other_list = list(zip(names, ages, (1, 2)))\n",
    "print(other_list)\n"
   ]
  },
  {
   "cell_type": "markdown",
   "metadata": {},
   "source": [
    "## Enumerate Function\n",
    "gives a collection a new lsit that pair each element with an index"
   ]
  },
  {
   "cell_type": "code",
   "execution_count": 5,
   "metadata": {},
   "outputs": [
    {
     "name": "stdout",
     "output_type": "stream",
     "text": [
      "red\n",
      "0\n",
      "green\n",
      "1\n",
      "gold\n",
      "2\n",
      "purple\n",
      "3\n",
      "start of enumerate\n",
      "red\n",
      "0\n",
      "green\n",
      "1\n",
      "gold\n",
      "2\n",
      "purple\n",
      "3\n",
      "[(0, 'red'), (1, 'green'), (2, 'gold'), (3, 'purple')]\n"
     ]
    }
   ],
   "source": [
    "apples = [\"red\", \"green\", \"gold\", \"purple\"]\n",
    "\n",
    "counter = 0\n",
    "\n",
    "for apple in apples:\n",
    "    print(apple)\n",
    "    print(counter)\n",
    "    counter += 1\n",
    "\n",
    "# enumerate function\n",
    "print(\"start of enumerate\")\n",
    "for counter, apple in enumerate(apples):\n",
    "    print(apple)\n",
    "    print(counter)\n",
    "\n",
    "print(list(enumerate(apples)))"
   ]
  },
  {
   "cell_type": "markdown",
   "metadata": {},
   "source": [
    "## FUNCTIONS!! In python\n",
    "always start with def keyword\n",
    "\n",
    "def say_hello(name):\n",
    "    print(f\"Hello {name}\")\n",
    "    return\n",
    "\n",
    "say_hello(\"Kosmos\")"
   ]
  },
  {
   "cell_type": "code",
   "execution_count": 9,
   "metadata": {},
   "outputs": [
    {
     "name": "stdout",
     "output_type": "stream",
     "text": [
      "ceoDemitri\n"
     ]
    },
    {
     "name": "stdout",
     "output_type": "stream",
     "text": [
      "y\n",
      "ceoDemitri\n",
      "y\n",
      "ceoDemitri\n",
      "y\n",
      "ceoDemitri\n",
      "n\n"
     ]
    }
   ],
   "source": [
    "def ceoDemitri():\n",
    "    boss = True\n",
    "    while boss:\n",
    "        print(\"ceoDemitri\")\n",
    "        still = input(\"y / n\")\n",
    "        if still == \"y\":\n",
    "            boss = True\n",
    "        else:\n",
    "            boss = False\n",
    "        print(still)\n",
    "    return\n",
    "\n",
    "ceoDemitri()\n",
    "        "
   ]
  },
  {
   "cell_type": "markdown",
   "metadata": {},
   "source": [
    "## Arguements and Parameters"
   ]
  },
  {
   "cell_type": "code",
   "execution_count": 2,
   "metadata": {},
   "outputs": [
    {
     "name": "stdout",
     "output_type": "stream",
     "text": [
      "BMW M3 does 10.0 per gallon\n",
      "BMW M3 does 10.0 per gallon\n",
      "Mercedes S-Class does 10.0 per gallon\n",
      "Toyota Corolla does 10.0 per gallon\n"
     ]
    }
   ],
   "source": [
    "cars = [\n",
    "    {\"make\": \"BMW\",\n",
    "    \"model\": \"M3\",\n",
    "    \"mileage\": 5200,\n",
    "    \"fuel_consumed\": 520},\n",
    "    {\"make\": \"Mercedes\",\n",
    "    \"model\": \"S-Class\",\n",
    "    \"mileage\": 12000,\n",
    "    \"fuel_consumed\": 1200},\n",
    "    {\"make\": \"Toyota\",\n",
    "     \"model\": \"Corolla\",\n",
    "     \"mileage\": 10000,\n",
    "     \"fuel_consumed\": 1000},\n",
    "]\n",
    "\n",
    "def calculate_mpg(car):\n",
    "    mpg = car[\"mileage\"] / car[\"fuel_consumed\"]\n",
    "    name = f\"{car['make']} {car['model']}\"\n",
    "    print(f\"{name} does {mpg} per gallon\")\n",
    "\n",
    "calculate_mpg(cars[0])\n",
    "\n",
    "for car in cars:\n",
    "    calculate_mpg(car)"
   ]
  },
  {
   "cell_type": "markdown",
   "metadata": {},
   "source": [
    "## Functions and Return Values\n"
   ]
  },
  {
   "cell_type": "code",
   "execution_count": 4,
   "metadata": {},
   "outputs": [
    {
     "name": "stdout",
     "output_type": "stream",
     "text": [
      "BMW M3 does 10.0 per gallon\n",
      "6.0\n"
     ]
    },
    {
     "data": {
      "text/plain": [
       "'Can not divide by Zero'"
      ]
     },
     "execution_count": 4,
     "metadata": {},
     "output_type": "execute_result"
    }
   ],
   "source": [
    "cars = [\n",
    "    {\"make\": \"BMW\",\n",
    "    \"model\": \"M3\",\n",
    "    \"mileage\": 5200,\n",
    "    \"fuel_consumed\": 520},\n",
    "    {\"make\": \"Mercedes\",\n",
    "    \"model\": \"S-Class\",\n",
    "    \"mileage\": 12000,\n",
    "    \"fuel_consumed\": 1200},\n",
    "    {\"make\": \"Toyota\",\n",
    "     \"model\": \"Corolla\",\n",
    "     \"mileage\": 10000,\n",
    "     \"fuel_consumed\": 1000},\n",
    "]\n",
    "\n",
    "def calculate_mpg(car):\n",
    "    mpg = car[\"mileage\"] / car[\"fuel_consumed\"]\n",
    "    name = f\"{car['make']} {car['model']}\"\n",
    "    print(f\"{name} does {mpg} per gallon\")\n",
    "    return mpg\n",
    "\n",
    "calculate_mpg(cars[0])\n",
    "\n",
    "\n",
    "\n",
    "# example 2\n",
    "def divide(x, y):\n",
    "    if x == 0:\n",
    "        return \"Can not divide by Zero\"\n",
    "    else:\n",
    "        return x / y\n",
    "\n",
    "print(divide(30, 5))\n",
    "divide(0, 45)\n",
    "\n"
   ]
  },
  {
   "cell_type": "markdown",
   "metadata": {},
   "source": [
    "## Default Parameter Values\n",
    "can modify the default parameter values. "
   ]
  },
  {
   "cell_type": "code",
   "execution_count": 5,
   "metadata": {},
   "outputs": [
    {
     "name": "stdout",
     "output_type": "stream",
     "text": [
      "75\n",
      "333\n",
      "375\n",
      "1 * 2 * 3 * 4\n"
     ]
    }
   ],
   "source": [
    "def add(x, y=3):\n",
    "    total = x + y\n",
    "    return total\n",
    "\n",
    "print(add(30, 45))\n",
    "\n",
    "\n",
    "# define named arguemnts when calling the function\n",
    "print(add(x=330))\n",
    "\n",
    "# if the first arg has a name, all arg after must be named\n",
    "print(add(x=330, y=45))\n",
    "\n",
    "\n",
    "# even built in functions may have keyword(named) args\n",
    "print(1, 2, 3, 4, sep=\" * \")\n",
    "\n",
    "\n",
    "# do not use variables for named arguments\n",
    "# dict and list are perm modified so be careful using them as arguments"
   ]
  },
  {
   "cell_type": "markdown",
   "metadata": {},
   "source": [
    "## Lambda Function\n",
    "Get input, small processing then return output."
   ]
  },
  {
   "cell_type": "code",
   "execution_count": null,
   "metadata": {},
   "outputs": [],
   "source": [
    "divide = lambda x, y: x / y\n",
    "print(divide(16, 4))\n",
    "\n",
    "# with parameters\n",
    "# syntax: lambda parameters colon return value\n",
    "average = lambda sequence: sum(sequence)/ len(sequence)\n",
    "\n",
    "# how a normal function would look\n",
    "# def average(sequence):\n",
    "#     return sum(sequence)/len(sequence)\n",
    "\n",
    "# refresher on for loops\n",
    "# for student in students:\n",
    "#   print(average(student[\"grades\"]))"
   ]
  },
  {
   "cell_type": "markdown",
   "metadata": {},
   "source": [
    "## First Class Functions"
   ]
  },
  {
   "cell_type": "code",
   "execution_count": 4,
   "metadata": {},
   "outputs": [
    {
     "name": "stdout",
     "output_type": "stream",
     "text": [
      "hallo\n"
     ]
    }
   ],
   "source": [
    "def greet():\n",
    "    print(\"hallo\")\n",
    "\n",
    "hallo = greet\n",
    "\n",
    "hallo()"
   ]
  },
  {
   "cell_type": "code",
   "execution_count": 5,
   "metadata": {},
   "outputs": [
    {
     "name": "stdout",
     "output_type": "stream",
     "text": [
      "student: Hannah\n",
      "student: Amel\n"
     ]
    }
   ],
   "source": [
    "# old way\n",
    "# def average(seq):\n",
    "#     return sum(seq) / len(seq)\n",
    "\n",
    "avg = lambda seq: sum(seq) / len(seq)\n",
    "total = lambda seq: sum(seq)\n",
    "top = lambda seq: max(seq)\n",
    "\n",
    "students = [\n",
    "    {\"name\": \"Hannah\", \"grades\": (88, 91, 73, 92)},\n",
    "    {\"name\": \"Amel\", \"grades\": (98, 99, 93, 92)}\n",
    "]\n",
    "\n",
    "for student in students:\n",
    "    name = student[\"name\"]\n",
    "    grades = student[\"grades\"]\n",
    "\n",
    "    print(f\"student: {name}\")\n",
    "    operation = input(\"Enter 'average', 'total', 'top': \")\n",
    "\n",
    "    if operation == \"average\":\n",
    "        print(avg(grades))\n",
    "    elif operation == \"total\":\n",
    "        print(total(grades))\n",
    "    elif operation == \"top\":\n",
    "        print(top(grades))"
   ]
  },
  {
   "cell_type": "code",
   "execution_count": 11,
   "metadata": {},
   "outputs": [
    {
     "name": "stdout",
     "output_type": "stream",
     "text": [
      "student: Hannah\n",
      "86.0\n",
      "student: Amel\n",
      "95.5\n"
     ]
    }
   ],
   "source": [
    "# slim version of code above\n",
    "avg = lambda seq: sum(seq) / len(seq)\n",
    "total = lambda seq: sum(seq)\n",
    "top = lambda seq: max(seq)\n",
    "\n",
    "# first class function example. functions used as values\n",
    "operations = {\n",
    "    \"average\": avg,\n",
    "    \"total\": total,\n",
    "    \"top\": top\n",
    "}\n",
    "\n",
    "students = [\n",
    "    {\"name\": \"Hannah\", \"grades\": (88, 91, 73, 92)},\n",
    "    {\"name\": \"Amel\", \"grades\": (98, 99, 93, 92)}\n",
    "]\n",
    "\n",
    "for student in students:\n",
    "    name = student[\"name\"]\n",
    "    grades = student[\"grades\"]\n",
    "\n",
    "    print(f\"student: {name}\")\n",
    "    operation = input(\"Enter 'average', 'total', 'top': \")\n",
    "\n",
    "    operation_function = operations[operation]\n",
    "    print(operation_function(grades))"
   ]
  },
  {
   "cell_type": "markdown",
   "metadata": {},
   "source": [
    "# Section 2 Review"
   ]
  },
  {
   "cell_type": "code",
   "execution_count": null,
   "metadata": {},
   "outputs": [],
   "source": [
    "# Conditionals\n",
    "# if statements\n",
    "# if <expression>:\n",
    "#     <statement>\n",
    "\n",
    "if name == friend:\n",
    "    print(f\"{name} is a friend\")\n",
    "\n",
    "\n",
    "# elif keyword\n",
    "#  if <expr>:\n",
    "#     <first_statement>\n",
    "# elif <expr>:\n",
    "#     <second_statement>\n",
    "\n",
    "name = input(\"Enter a Name: \")\n",
    "if name == \"Rolf\":\n",
    "    print(f\"{name} is a best friend\")\n",
    "elif name == \"Phil\":\n",
    "    print(f\"{name} is a family member\")\n",
    "\n",
    "\n",
    "\n",
    "# else keyword\n",
    "# if <expr>:\n",
    "#     <statement>\n",
    "# else:\n",
    "#     <statement>\n",
    "\n",
    "name = \"John\"\n",
    "if name == \"Tiny\":\n",
    "    print(f\"{name} is a best friend\")\n",
    "elif name == \"Pan\":\n",
    "    print(f\"{name} is a family member\")\n",
    "else: \n",
    "    print(f\"{name} is a stranger prolly.\")"
   ]
  },
  {
   "cell_type": "code",
   "execution_count": null,
   "metadata": {},
   "outputs": [],
   "source": [
    "# Loops\n",
    "# Runs until condition is false\n",
    "# while <condition>:\n",
    "#     <block of code>\n",
    "\n",
    "counter = 5\n",
    "while counter > 0:\n",
    "    print(f\"{counter} seconds left until New Year!\")\n",
    "    counter -= 1\n",
    "print('Happy New Dae')\n",
    "\n",
    "\n",
    "# for loop\n",
    "# runs a specific amount of time\n",
    "# for <variable> in <iterable>:\n",
    "#     <block of code>\n",
    "\n",
    "numbers = [1, 2, 3, 4, 5]\n",
    "for number in numbers:\n",
    "    print(number)\n",
    "\n",
    "\n",
    "\n",
    "# range function\n",
    "# for i in range(start, stop, step):\n",
    "#     print(i)\n",
    "\n",
    "for i in range(1, 13, 2):\n",
    "    print(i)\n",
    "\n",
    "\n",
    "\n",
    "# break statement\n",
    "counter = 0\n",
    "while counter < 10:\n",
    "    print(counter)\n",
    "    if counter == 5:\n",
    "        break\n",
    "    counter += 1\n",
    "print(f\"That's all the numbers from 0 to {counter}\")\n",
    "\n",
    "\n",
    "\n",
    "# continue statement\n",
    "\n",
    "cars = [\"ok\", \"ok\", \"ok\", \"faulty\", \"ok\", \"ok\"]\n",
    "\n",
    "for status in cars:\n",
    "    if status == \"faulty\":\n",
    "        print(\"Found faulty car, skipping...\")\n",
    "        continue\n",
    "\n",
    "    print(f\"This car is {status}.\")\n",
    "    print(\"Shipping new car to customer!\")\n",
    "\n",
    "\n",
    "\n",
    "# pass statement\n",
    "# used a placeholder at a place where code is required but doesn't exist yet.\n",
    "for i in range(5):\n",
    "    if i % 2 == 0:\n",
    "        pass\n",
    "    print(i)\n",
    "\n",
    "\n",
    "\n",
    "# else and for loop\n",
    "for i in range(10):\n",
    "    print(i)\n",
    "    if i == 10:\n",
    "        break\n",
    "else:\n",
    "    print(\"The loop didn't break!\")\n",
    "\n",
    "\n",
    "\n",
    "# Nested Loops\n",
    "rows = 3\n",
    "columns = 2\n",
    "matrix = []\n",
    "for i in range(rows):\n",
    "    row = []\n",
    "    for j in range(columns):\n",
    "        row.append(f\"{i}-{j}\")\n",
    "    matrix.append(row)\n",
    "print(matrix)"
   ]
  },
  {
   "cell_type": "code",
   "execution_count": 5,
   "metadata": {},
   "outputs": [
    {
     "name": "stdout",
     "output_type": "stream",
     "text": [
      "1 2 3\n"
     ]
    }
   ],
   "source": [
    "# Destructuring\n",
    "# unpacking\n",
    "# assign values from an iterable to variables in single statement\n",
    "# x, y, z = collection\n",
    "\n",
    "example_list = [1, 2, 3]\n",
    "a, b, c = example_list\n",
    "print(a, b, c)\n",
    "\n",
    "\n",
    "\n",
    "# enumerate function\n",
    "# for index, element in enumerate(collection):\n",
    "#     block of code\n",
    "\n",
    "collection = ['a', 'b', 'c']\n",
    "for index, element in enumerate(collection):\n",
    "    print(f\"Index: {index}, Element: {element}\")\n",
    "\n",
    "\n",
    "\n",
    "# zip function\n",
    "# combine multiple iterables into one. length will equal length of shortest input\n",
    "\n",
    "numbers = [1, 2, 3, 4, 5]\n",
    "letters = ['a', 'b', 'c']\n",
    "combined = list(zip(numbers, letters))\n",
    "print(combined)"
   ]
  },
  {
   "cell_type": "code",
   "execution_count": 4,
   "metadata": {},
   "outputs": [
    {
     "name": "stdout",
     "output_type": "stream",
     "text": [
      "[0, 2, 4]\n",
      "{1, 2, 3, 4, 5}\n",
      "{'Rolf': 1, 'Hannah': 2, 'Phil': 3}\n",
      "[2, 3]\n"
     ]
    }
   ],
   "source": [
    "# Comprehensions\n",
    "# # list comprehension\n",
    "# new_collection = [element for element in collection]\n",
    "\n",
    "# list comprehension with conditionals\n",
    "numbers = [i for i in range(5) if i % 2 == 0]\n",
    "print(numbers)\n",
    "\n",
    "\n",
    "\n",
    "# set comprehension\n",
    "collection = [1, 2, 2, 3, 4, 3, 5]\n",
    "numbers = {i for i in collection}\n",
    "print(numbers)\n",
    "\n",
    "\n",
    "# dictionary comprehension\n",
    "# dictionary = {\n",
    "#     collection_1[i] : collection_2[i]\n",
    "#     for i in collection\n",
    "# }\n",
    "\n",
    "friends = [\"Rolf\", \"Hannah\", \"Phil\"]\n",
    "numbers = [1, 2, 3]\n",
    "dictionary = {\n",
    "    friends[i] : numbers[i]\n",
    "    for i in range(3)\n",
    "}\n",
    "print(dictionary)\n",
    "\n",
    "\n",
    "\n",
    "# list slicing\n",
    "# extract a part of a list\n",
    "# example_list = [1, 2, 3, 4, 5]\n",
    "# print(example_list[start : stop: step])\n",
    "\n",
    "example_list = [1, 2, 3, 4, 5]\n",
    "print(example_list[1 : 3 : 1])"
   ]
  },
  {
   "cell_type": "code",
   "execution_count": 8,
   "metadata": {},
   "outputs": [
    {
     "name": "stdout",
     "output_type": "stream",
     "text": [
      "Hello, John Smith\n",
      "Hello, John\n",
      "Hello, John Smith\n",
      "Hello, Adam\n",
      "Hello, Jeffrey\n",
      "Hello, Tom\n"
     ]
    }
   ],
   "source": [
    "# functions\n",
    "# def square();\n",
    "#     block of Code\n",
    "\n",
    "# square()\n",
    "\n",
    "# return keyword\n",
    "def greet():\n",
    "    name = \"John Smith\"\n",
    "    return f\"Hello, {name}\"\n",
    "\n",
    "print(greet())\n",
    "\n",
    "\n",
    "\n",
    "# parameters\n",
    "def greeting(name):\n",
    "    return f\"Hello, {name}\"\n",
    "\n",
    "print(greeting(\"John\"))\n",
    "\n",
    "print(greeting(\"John Smith\"))\n",
    "\n",
    "\n",
    "\n",
    "# default parameters\n",
    "def greets(name = \"Adam\"):\n",
    "    return f\"Hello, {name}\"\n",
    "\n",
    "print(greets())\n",
    "print(greets(\"Jeffrey\"))\n",
    "print(greets(\"Tom\"))\n",
    "\n",
    "\n",
    "\n",
    "# lambda functions\n",
    "# used for defining small functions. only special occasions\n",
    "# lamda name: f\"Hello, {name}\"\n"
   ]
  }
 ],
 "metadata": {
  "kernelspec": {
   "display_name": "Python 3",
   "language": "python",
   "name": "python3"
  },
  "language_info": {
   "codemirror_mode": {
    "name": "ipython",
    "version": 3
   },
   "file_extension": ".py",
   "mimetype": "text/x-python",
   "name": "python",
   "nbconvert_exporter": "python",
   "pygments_lexer": "ipython3",
   "version": "3.9.6"
  }
 },
 "nbformat": 4,
 "nbformat_minor": 2
}
