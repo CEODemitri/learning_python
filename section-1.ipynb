{
 "cells": [
  {
   "cell_type": "markdown",
   "metadata": {},
   "source": [
    "# Python Mastery"
   ]
  },
  {
   "cell_type": "markdown",
   "metadata": {},
   "source": [
    "## String Formatting\n",
    "Allows for quick use of mixing variable types. "
   ]
  },
  {
   "cell_type": "code",
   "execution_count": 2,
   "metadata": {},
   "outputs": [
    {
     "name": "stdout",
     "output_type": "stream",
     "text": [
      "My Guy, ceoDemitri! What's Goodie\n",
      "My Guy, ceoDemitri! What's Goodie.I heard you like the color, red?\n"
     ]
    }
   ],
   "source": [
    "# Example of using F-Strings Compared to Formatting:\n",
    "# F-String\n",
    "name = \"ceoDemitri\"\n",
    "greeting = f\"My Guy, {name}! What's Goodie\"\n",
    "print(greeting)\n",
    "\n",
    "# Formatting\n",
    "color = \"red\"\n",
    "final_greeting = greeting + \". I heard you like the color, {}?\"\n",
    "ceo_greeting = final_greeting.format(color)\n",
    "print(ceo_greeting)\n",
    "\n",
    "# More Flexible?\n",
    "worker_color = \"lightRed\"\n",
    "worker_greeting = final_greeting.format(worker_color)"
   ]
  },
  {
   "cell_type": "markdown",
   "metadata": {},
   "source": [
    "## Boolean and Comparisons"
   ]
  },
  {
   "cell_type": "code",
   "execution_count": 4,
   "metadata": {},
   "outputs": [
    {
     "name": "stdout",
     "output_type": "stream",
     "text": [
      "True False False\n"
     ]
    }
   ],
   "source": [
    "age = 26\n",
    "is_over_age = age >= 18\n",
    "is_under_age = age <= 18\n",
    "is_thirty = age == 30\n",
    "print(is_over_age, is_under_age, is_thirty)"
   ]
  },
  {
   "cell_type": "code",
   "execution_count": 5,
   "metadata": {},
   "outputs": [],
   "source": [
    "# Test Program\n",
    "my_guess = 26\n",
    "user_number = int(input(\"Pick a Number between 1 and 30: \"))\n",
    "\n",
    "print(my_guess == user_number)"
   ]
  }
 ],
 "metadata": {
  "kernelspec": {
   "display_name": "Python 3",
   "language": "python",
   "name": "python3"
  },
  "language_info": {
   "codemirror_mode": {
    "name": "ipython",
    "version": 3
   },
   "file_extension": ".py",
   "mimetype": "text/x-python",
   "name": "python",
   "nbconvert_exporter": "python",
   "pygments_lexer": "ipython3",
   "version": "3.9.6"
  }
 },
 "nbformat": 4,
 "nbformat_minor": 2
}
