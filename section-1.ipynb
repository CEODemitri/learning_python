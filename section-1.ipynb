{
 "cells": [
  {
   "cell_type": "markdown",
   "metadata": {},
   "source": [
    "# Python Mastery"
   ]
  },
  {
   "cell_type": "markdown",
   "metadata": {},
   "source": [
    "## String Formatting\n",
    "Allows for quick use of mixing variable types. "
   ]
  },
  {
   "cell_type": "code",
   "execution_count": 2,
   "metadata": {},
   "outputs": [
    {
     "name": "stdout",
     "output_type": "stream",
     "text": [
      "My Guy, ceoDemitri! What's Goodie\n",
      "My Guy, ceoDemitri! What's Goodie.I heard you like the color, red?\n"
     ]
    }
   ],
   "source": [
    "# Example of using F-Strings Compared to Formatting:\n",
    "# F-String\n",
    "name = \"ceoDemitri\"\n",
    "greeting = f\"My Guy, {name}! What's Goodie\"\n",
    "print(greeting)\n",
    "\n",
    "# Formatting\n",
    "color = \"red\"\n",
    "final_greeting = greeting + \". I heard you like the color, {}?\"\n",
    "ceo_greeting = final_greeting.format(color)\n",
    "print(ceo_greeting)\n",
    "\n",
    "# More Flexible?\n",
    "worker_color = \"lightRed\"\n",
    "worker_greeting = final_greeting.format(worker_color)"
   ]
  },
  {
   "cell_type": "markdown",
   "metadata": {},
   "source": [
    "## Boolean and Comparisons"
   ]
  },
  {
   "cell_type": "code",
   "execution_count": 4,
   "metadata": {},
   "outputs": [
    {
     "name": "stdout",
     "output_type": "stream",
     "text": [
      "True False False\n"
     ]
    }
   ],
   "source": [
    "age = 26\n",
    "is_over_age = age >= 18\n",
    "is_under_age = age <= 18\n",
    "is_thirty = age == 30\n",
    "print(is_over_age, is_under_age, is_thirty)"
   ]
  },
  {
   "cell_type": "code",
   "execution_count": 1,
   "metadata": {},
   "outputs": [
    {
     "name": "stdout",
     "output_type": "stream",
     "text": [
      "False\n"
     ]
    }
   ],
   "source": [
    "# Test Program\n",
    "my_guess = 26\n",
    "user_number = int(input(\"Pick a Number between 1 and 30: \"))\n",
    "\n",
    "print(my_guess == user_number)"
   ]
  },
  {
   "cell_type": "markdown",
   "metadata": {},
   "source": [
    "### and / or\n"
   ]
  },
  {
   "cell_type": "code",
   "execution_count": 16,
   "metadata": {},
   "outputs": [
    {
     "name": "stdout",
     "output_type": "stream",
     "text": [
      "Result:  False\n",
      "Choice:  False\n",
      "User Age:  31\n",
      "Ur result is:  True\n",
      "Last result is:  0\n",
      "Super Last result is:  0\n",
      "Hello, Gerald\n",
      "Hello,  Gerald\n"
     ]
    }
   ],
   "source": [
    "# and > Example\n",
    "# returns first value if first value is false\n",
    "age = 26\n",
    "result = age < 10 and age > 30\n",
    "print(\"Result: \", result)\n",
    "\n",
    "\n",
    "# or > Example\n",
    "# returns first value if first value is true, second if first is false\n",
    "choice = age < 10 or age > 30\n",
    "print(\"Choice: \", choice)\n",
    "\n",
    "default_age = 31\n",
    "age = 0\n",
    "user_age = age or default_age\n",
    "print(\"User Age: \", user_age)\n",
    "\n",
    "\n",
    "# Take 2\n",
    "\n",
    "# age to verify if old enough \n",
    "ur_age = 25\n",
    "ur_result = ur_age > 18 and ur_age < 66\n",
    "print(\"Ur result is: \", ur_result)\n",
    "\n",
    "# and\n",
    "last_default = 0\n",
    "last_age = 22\n",
    "last_result = last_default and last_age\n",
    "super_last = last_age and last_default\n",
    "print(\"Last result is: \", last_result)\n",
    "print(\"Super Last result is: \", super_last)\n",
    "\n",
    "# or use case\n",
    "default_greeting = \"there\"\n",
    "name = input(\"Enter your name: \")\n",
    "\n",
    "user_name = name or default_greeting\n",
    "print(f\"Hello, {user_name}\")\n",
    "print(\"Hello, \", user_name)"
   ]
  },
  {
   "cell_type": "markdown",
   "metadata": {},
   "source": [
    "## Lists\n",
    "Store multiple values in a single variable. <br>\n",
    "<br>\n",
    "<code>imagination = [\"daydream\", \"Honey\"]</code>"
   ]
  },
  {
   "cell_type": "code",
   "execution_count": 19,
   "metadata": {},
   "outputs": [
    {
     "name": "stdout",
     "output_type": "stream",
     "text": [
      "3\n",
      "['apples', 'peaches', 'cherries', 'kiwi']\n"
     ]
    }
   ],
   "source": [
    "fruit = [\"apples\", \"peaches\", \"cherries\"]\n",
    "print(len(fruit))\n",
    "fruit.append(\"kiwi\")\n",
    "print(fruit)"
   ]
  },
  {
   "cell_type": "markdown",
   "metadata": {},
   "source": [
    "## Tuple\n",
    "Set amount of values in a single variable\n",
    "\n",
    "<code>\n",
    "    daydream = \"spears\", \"flight\" \n",
    "    <br>\n",
    "     daydream_two = {\"HPE\", \"Honey\"}\n",
    "</code>"
   ]
  }
 ],
 "metadata": {
  "kernelspec": {
   "display_name": "Python 3",
   "language": "python",
   "name": "python3"
  },
  "language_info": {
   "codemirror_mode": {
    "name": "ipython",
    "version": 3
   },
   "file_extension": ".py",
   "mimetype": "text/x-python",
   "name": "python",
   "nbconvert_exporter": "python",
   "pygments_lexer": "ipython3",
   "version": "3.9.6"
  }
 },
 "nbformat": 4,
 "nbformat_minor": 2
}
