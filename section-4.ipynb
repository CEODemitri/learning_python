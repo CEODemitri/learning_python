{
 "cells": [
  {
   "cell_type": "markdown",
   "metadata": {},
   "source": [
    "# Object Oriented Programming"
   ]
  },
  {
   "cell_type": "code",
   "execution_count": 7,
   "metadata": {},
   "outputs": [
    {
     "name": "stdout",
     "output_type": "stream",
     "text": [
      "83.5\n",
      "75.0\n"
     ]
    }
   ],
   "source": [
    "my_student = {\n",
    "    'name': 'Hannah Echols',\n",
    "    'grades': [92, 52, 99, 91]\n",
    "}\n",
    "\n",
    "# implement a function that calc average grade\n",
    "def average_grade(student):\n",
    "   return sum(student['grades']) / len(student['grades'])\n",
    "\n",
    "print(average_grade(my_student))\n",
    "\n",
    "\n",
    "# make an object\n",
    "class Student:\n",
    "    def __init__(self, new_name, new_grades):\n",
    "        self.name = new_name\n",
    "        self.grades = new_grades\n",
    "        \n",
    "# a function in a class is a method. use dot notatin to access methods\n",
    "    def average(self):\n",
    "        return sum(self.grades) / len(self.grades)\n",
    "    \n",
    "student_one = Student('Mey E.', [45, 98, 73, 84]);\n",
    "print(student_one.average())"
   ]
  },
  {
   "cell_type": "code",
   "execution_count": null,
   "metadata": {},
   "outputs": [],
   "source": [
    "# exercise\n",
    "\n",
    "# Define a Movie class that has two properties: name and director\n",
    "class Movie:\n",
    "    def __init__(self, name, director):\n",
    "        self.name = name\n",
    "        self.director = director\n",
    "\n",
    "# You should be able to create Movie objects like this one:\n",
    "my_movie = Movie('The Matrix', 'Wachowski')"
   ]
  }
 ],
 "metadata": {
  "kernelspec": {
   "display_name": "Python 3",
   "language": "python",
   "name": "python3"
  },
  "language_info": {
   "codemirror_mode": {
    "name": "ipython",
    "version": 3
   },
   "file_extension": ".py",
   "mimetype": "text/x-python",
   "name": "python",
   "nbconvert_exporter": "python",
   "pygments_lexer": "ipython3",
   "version": "3.9.6"
  }
 },
 "nbformat": 4,
 "nbformat_minor": 2
}
