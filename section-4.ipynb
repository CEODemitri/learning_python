{
 "cells": [
  {
   "cell_type": "markdown",
   "metadata": {},
   "source": [
    "# Object Oriented Programming"
   ]
  },
  {
   "cell_type": "code",
   "execution_count": 7,
   "metadata": {},
   "outputs": [
    {
     "name": "stdout",
     "output_type": "stream",
     "text": [
      "83.5\n",
      "75.0\n"
     ]
    }
   ],
   "source": [
    "my_student = {\n",
    "    'name': 'Hannah Echols',\n",
    "    'grades': [92, 52, 99, 91]\n",
    "}\n",
    "\n",
    "# implement a function that calc average grade\n",
    "def average_grade(student):\n",
    "   return sum(student['grades']) / len(student['grades'])\n",
    "\n",
    "print(average_grade(my_student))\n",
    "\n",
    "\n",
    "# make an object\n",
    "class Student:\n",
    "    def __init__(self, new_name, new_grades):\n",
    "        self.name = new_name\n",
    "        self.grades = new_grades\n",
    "        \n",
    "# a function in a class is a method. use dot notatin to access methods\n",
    "    def average(self):\n",
    "        return sum(self.grades) / len(self.grades)\n",
    "    \n",
    "student_one = Student('Mey E.', [45, 98, 73, 84]);\n",
    "print(student_one.average())"
   ]
  },
  {
   "cell_type": "code",
   "execution_count": null,
   "metadata": {},
   "outputs": [],
   "source": [
    "# exercise\n",
    "\n",
    "# Define a Movie class that has two properties: name and director\n",
    "class Movie:\n",
    "    def __init__(self, name, director):\n",
    "        self.name = name\n",
    "        self.director = director\n",
    "\n",
    "# You should be able to create Movie objects like this one:\n",
    "my_movie = Movie('The Matrix', 'Wachowski')"
   ]
  },
  {
   "cell_type": "markdown",
   "metadata": {},
   "source": [
    "## Parameter Naming"
   ]
  },
  {
   "cell_type": "code",
   "execution_count": 1,
   "metadata": {},
   "outputs": [
    {
     "name": "stdout",
     "output_type": "stream",
     "text": [
      "Orange\n"
     ]
    }
   ],
   "source": [
    "class Fruit:\n",
    "    def __init__(self, size, name):\n",
    "        self.name = name\n",
    "        self.size = size\n",
    "\n",
    "orange = Fruit(\"medium\", \"Orange\")\n",
    "print(orange.name)"
   ]
  },
  {
   "cell_type": "markdown",
   "metadata": {},
   "source": [
    "## Magic Methods"
   ]
  },
  {
   "cell_type": "code",
   "execution_count": 2,
   "metadata": {},
   "outputs": [
    {
     "name": "stdout",
     "output_type": "stream",
     "text": [
      "<class 'list'>\n"
     ]
    }
   ],
   "source": [
    "fruits = ['Orange', \"Tomato\"]\n",
    "print(fruits.__class__)"
   ]
  },
  {
   "cell_type": "code",
   "execution_count": 6,
   "metadata": {},
   "outputs": [
    {
     "name": "stdout",
     "output_type": "stream",
     "text": [
      "2\n",
      "Lexus\n",
      "Garage with 2 cars.\n"
     ]
    }
   ],
   "source": [
    "class Garage:\n",
    "    def __init__(self):\n",
    "        self.cars = []\n",
    "\n",
    "    def __len__(self):\n",
    "        return len(self.cars)\n",
    "    \n",
    "    def __getitem__(self, i):\n",
    "        return self.cars[i]\n",
    "    \n",
    "\n",
    "    # most useful between repr and str\n",
    "    def __repr__(self) -> str:\n",
    "        return f'<Garage {self.cars}>'\n",
    "\n",
    "    def __str__(self) -> str:\n",
    "        return f'Garage with {len(self)} cars.'\n",
    "\n",
    "ford = Garage()\n",
    "ford.cars.append(\"BMW\")\n",
    "ford.cars.append(\"Lexus\")\n",
    "\n",
    "print(len(ford))\n",
    "print(ford[1])\n",
    "\n",
    "print(ford)"
   ]
  },
  {
   "cell_type": "markdown",
   "metadata": {},
   "source": [
    "## Inheritance\n",
    "Used to lessen duplication"
   ]
  },
  {
   "cell_type": "code",
   "execution_count": null,
   "metadata": {},
   "outputs": [],
   "source": [
    "# a good example of why inheritance is a useful tool\n",
    "# the WorkingStudent is essentially the same as the Student with one extra param. the rest of the code is duplication\n",
    "class Student:\n",
    "    def __init__(self, name, school):\n",
    "        self.name = name\n",
    "        self.school = school\n",
    "        self.marks = []\n",
    "\n",
    "    def average(self):\n",
    "        return sum(self.marks) / len(self.marks)\n",
    "\n",
    "class WorkingStudent:\n",
    "    def __init__(self, name, school, salary):\n",
    "        self.name = name\n",
    "        self.school = school\n",
    "        self.marks = []\n",
    "        self.salary = salary\n",
    "\n",
    "    def average(self):\n",
    "        return sum(self.marks) / len(self.marks)\n",
    "    \n",
    "\n",
    "rolf = WorkingStudent('Rolf', 'MIT', 15.50)\n",
    "print(rolf.salary)"
   ]
  },
  {
   "cell_type": "code",
   "execution_count": 1,
   "metadata": {},
   "outputs": [
    {
     "name": "stdout",
     "output_type": "stream",
     "text": [
      "<__main__.WorkingStudent object at 0x10d101c40>\n",
      "96.66666666666667\n",
      "30750\n"
     ]
    }
   ],
   "source": [
    "# using inheritance \n",
    "class Student:\n",
    "    def __init__(self, name, school):\n",
    "        self.name = name\n",
    "        self.school = school\n",
    "        self.marks = []\n",
    "\n",
    "    def average(self):\n",
    "        return sum(self.marks) / len(self.marks)\n",
    "    \n",
    "class WorkingStudent(Student):\n",
    "    def __init__(self, name, school, salary):\n",
    "        super().__init__(name, school)\n",
    "        self.salary = salary\n",
    "\n",
    "    def weekly_salary(self):\n",
    "        return self.salary * 41\n",
    "\n",
    "\n",
    "meter = WorkingStudent(\"Meter\", \"Bama\", 750)\n",
    "print(meter)\n",
    "meter.marks.append(100)\n",
    "meter.marks.append(93)\n",
    "meter.marks.append(97)\n",
    "print(meter.average())\n",
    "print(meter.weekly_salary())\n"
   ]
  }
 ],
 "metadata": {
  "kernelspec": {
   "display_name": "Python 3",
   "language": "python",
   "name": "python3"
  },
  "language_info": {
   "codemirror_mode": {
    "name": "ipython",
    "version": 3
   },
   "file_extension": ".py",
   "mimetype": "text/x-python",
   "name": "python",
   "nbconvert_exporter": "python",
   "pygments_lexer": "ipython3",
   "version": "3.9.6"
  }
 },
 "nbformat": 4,
 "nbformat_minor": 2
}
